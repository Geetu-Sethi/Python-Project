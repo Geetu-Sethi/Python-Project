{
 "cells": [
  {
   "cell_type": "markdown",
   "id": "c656275b",
   "metadata": {
    "papermill": {
     "duration": 0.020141,
     "end_time": "2023-11-28T11:50:51.986083",
     "exception": false,
     "start_time": "2023-11-28T11:50:51.965942",
     "status": "completed"
    },
    "tags": []
   },
   "source": [
    "# **Buying Behaviour of the Customers**"
   ]
  },
  {
   "cell_type": "markdown",
   "id": "5b7aa114",
   "metadata": {
    "papermill": {
     "duration": 0.018812,
     "end_time": "2023-11-28T11:50:52.024429",
     "exception": false,
     "start_time": "2023-11-28T11:50:52.005617",
     "status": "completed"
    },
    "tags": []
   },
   "source": [
    "# 1. **Importing the Libraries**"
   ]
  },
  {
   "cell_type": "code",
   "execution_count": 1,
   "id": "ad663424",
   "metadata": {
    "execution": {
     "iopub.execute_input": "2023-11-28T11:50:52.072010Z",
     "iopub.status.busy": "2023-11-28T11:50:52.071297Z",
     "iopub.status.idle": "2023-11-28T11:50:53.067582Z",
     "shell.execute_reply": "2023-11-28T11:50:53.066856Z",
     "shell.execute_reply.started": "2023-06-18T08:31:56.767581Z"
    },
    "papermill": {
     "duration": 1.023884,
     "end_time": "2023-11-28T11:50:53.067737",
     "exception": false,
     "start_time": "2023-11-28T11:50:52.043853",
     "status": "completed"
    },
    "tags": []
   },
   "outputs": [],
   "source": [
    "import pandas as pd\n",
    "import numpy as np\n",
    "import matplotlib.pyplot as plt\n",
    "%matplotlib inline\n",
    "import seaborn as sns\n",
    "import warnings\n",
    "warnings.filterwarnings('ignore') #for ignoring the warning"
   ]
  },
  {
   "cell_type": "markdown",
   "id": "baa95b62",
   "metadata": {
    "papermill": {
     "duration": 0.020025,
     "end_time": "2023-11-28T11:50:53.107319",
     "exception": false,
     "start_time": "2023-11-28T11:50:53.087294",
     "status": "completed"
    },
    "tags": []
   },
   "source": [
    "# 2. **Reading the File**"
   ]
  },
  {
   "cell_type": "code",
   "execution_count": 2,
   "id": "dd695811",
   "metadata": {
    "execution": {
     "iopub.execute_input": "2023-11-28T11:50:53.150883Z",
     "iopub.status.busy": "2023-11-28T11:50:53.149907Z",
     "iopub.status.idle": "2023-11-28T11:50:53.210122Z",
     "shell.execute_reply": "2023-11-28T11:50:53.209502Z",
     "shell.execute_reply.started": "2023-06-18T08:33:16.933249Z"
    },
    "papermill": {
     "duration": 0.083592,
     "end_time": "2023-11-28T11:50:53.210253",
     "exception": false,
     "start_time": "2023-11-28T11:50:53.126661",
     "status": "completed"
    },
    "tags": []
   },
   "outputs": [
    {
     "data": {
      "text/html": [
       "<div>\n",
       "<style scoped>\n",
       "    .dataframe tbody tr th:only-of-type {\n",
       "        vertical-align: middle;\n",
       "    }\n",
       "\n",
       "    .dataframe tbody tr th {\n",
       "        vertical-align: top;\n",
       "    }\n",
       "\n",
       "    .dataframe thead th {\n",
       "        text-align: right;\n",
       "    }\n",
       "</style>\n",
       "<table border=\"1\" class=\"dataframe\">\n",
       "  <thead>\n",
       "    <tr style=\"text-align: right;\">\n",
       "      <th></th>\n",
       "      <th>ID</th>\n",
       "      <th>Year_Birth</th>\n",
       "      <th>Education</th>\n",
       "      <th>Marital_Status</th>\n",
       "      <th>Income</th>\n",
       "      <th>Kidhome</th>\n",
       "      <th>Teenhome</th>\n",
       "      <th>Dt_Customer</th>\n",
       "      <th>Recency</th>\n",
       "      <th>MntWines</th>\n",
       "      <th>...</th>\n",
       "      <th>NumWebVisitsMonth</th>\n",
       "      <th>AcceptedCmp3</th>\n",
       "      <th>AcceptedCmp4</th>\n",
       "      <th>AcceptedCmp5</th>\n",
       "      <th>AcceptedCmp1</th>\n",
       "      <th>AcceptedCmp2</th>\n",
       "      <th>Complain</th>\n",
       "      <th>Z_CostContact</th>\n",
       "      <th>Z_Revenue</th>\n",
       "      <th>Response</th>\n",
       "    </tr>\n",
       "  </thead>\n",
       "  <tbody>\n",
       "    <tr>\n",
       "      <th>0</th>\n",
       "      <td>5524</td>\n",
       "      <td>1957</td>\n",
       "      <td>Graduation</td>\n",
       "      <td>Single</td>\n",
       "      <td>58138.0</td>\n",
       "      <td>0</td>\n",
       "      <td>0</td>\n",
       "      <td>04-09-2012</td>\n",
       "      <td>58</td>\n",
       "      <td>635</td>\n",
       "      <td>...</td>\n",
       "      <td>7</td>\n",
       "      <td>0</td>\n",
       "      <td>0</td>\n",
       "      <td>0</td>\n",
       "      <td>0</td>\n",
       "      <td>0</td>\n",
       "      <td>0</td>\n",
       "      <td>3</td>\n",
       "      <td>11</td>\n",
       "      <td>1</td>\n",
       "    </tr>\n",
       "    <tr>\n",
       "      <th>1</th>\n",
       "      <td>2174</td>\n",
       "      <td>1954</td>\n",
       "      <td>Graduation</td>\n",
       "      <td>Single</td>\n",
       "      <td>46344.0</td>\n",
       "      <td>1</td>\n",
       "      <td>1</td>\n",
       "      <td>08-03-2014</td>\n",
       "      <td>38</td>\n",
       "      <td>11</td>\n",
       "      <td>...</td>\n",
       "      <td>5</td>\n",
       "      <td>0</td>\n",
       "      <td>0</td>\n",
       "      <td>0</td>\n",
       "      <td>0</td>\n",
       "      <td>0</td>\n",
       "      <td>0</td>\n",
       "      <td>3</td>\n",
       "      <td>11</td>\n",
       "      <td>0</td>\n",
       "    </tr>\n",
       "    <tr>\n",
       "      <th>2</th>\n",
       "      <td>4141</td>\n",
       "      <td>1965</td>\n",
       "      <td>Graduation</td>\n",
       "      <td>Together</td>\n",
       "      <td>71613.0</td>\n",
       "      <td>0</td>\n",
       "      <td>0</td>\n",
       "      <td>21-08-2013</td>\n",
       "      <td>26</td>\n",
       "      <td>426</td>\n",
       "      <td>...</td>\n",
       "      <td>4</td>\n",
       "      <td>0</td>\n",
       "      <td>0</td>\n",
       "      <td>0</td>\n",
       "      <td>0</td>\n",
       "      <td>0</td>\n",
       "      <td>0</td>\n",
       "      <td>3</td>\n",
       "      <td>11</td>\n",
       "      <td>0</td>\n",
       "    </tr>\n",
       "    <tr>\n",
       "      <th>3</th>\n",
       "      <td>6182</td>\n",
       "      <td>1984</td>\n",
       "      <td>Graduation</td>\n",
       "      <td>Together</td>\n",
       "      <td>26646.0</td>\n",
       "      <td>1</td>\n",
       "      <td>0</td>\n",
       "      <td>10-02-2014</td>\n",
       "      <td>26</td>\n",
       "      <td>11</td>\n",
       "      <td>...</td>\n",
       "      <td>6</td>\n",
       "      <td>0</td>\n",
       "      <td>0</td>\n",
       "      <td>0</td>\n",
       "      <td>0</td>\n",
       "      <td>0</td>\n",
       "      <td>0</td>\n",
       "      <td>3</td>\n",
       "      <td>11</td>\n",
       "      <td>0</td>\n",
       "    </tr>\n",
       "    <tr>\n",
       "      <th>4</th>\n",
       "      <td>5324</td>\n",
       "      <td>1981</td>\n",
       "      <td>PhD</td>\n",
       "      <td>Married</td>\n",
       "      <td>58293.0</td>\n",
       "      <td>1</td>\n",
       "      <td>0</td>\n",
       "      <td>19-01-2014</td>\n",
       "      <td>94</td>\n",
       "      <td>173</td>\n",
       "      <td>...</td>\n",
       "      <td>5</td>\n",
       "      <td>0</td>\n",
       "      <td>0</td>\n",
       "      <td>0</td>\n",
       "      <td>0</td>\n",
       "      <td>0</td>\n",
       "      <td>0</td>\n",
       "      <td>3</td>\n",
       "      <td>11</td>\n",
       "      <td>0</td>\n",
       "    </tr>\n",
       "    <tr>\n",
       "      <th>...</th>\n",
       "      <td>...</td>\n",
       "      <td>...</td>\n",
       "      <td>...</td>\n",
       "      <td>...</td>\n",
       "      <td>...</td>\n",
       "      <td>...</td>\n",
       "      <td>...</td>\n",
       "      <td>...</td>\n",
       "      <td>...</td>\n",
       "      <td>...</td>\n",
       "      <td>...</td>\n",
       "      <td>...</td>\n",
       "      <td>...</td>\n",
       "      <td>...</td>\n",
       "      <td>...</td>\n",
       "      <td>...</td>\n",
       "      <td>...</td>\n",
       "      <td>...</td>\n",
       "      <td>...</td>\n",
       "      <td>...</td>\n",
       "      <td>...</td>\n",
       "    </tr>\n",
       "    <tr>\n",
       "      <th>2235</th>\n",
       "      <td>10870</td>\n",
       "      <td>1967</td>\n",
       "      <td>Graduation</td>\n",
       "      <td>Married</td>\n",
       "      <td>61223.0</td>\n",
       "      <td>0</td>\n",
       "      <td>1</td>\n",
       "      <td>13-06-2013</td>\n",
       "      <td>46</td>\n",
       "      <td>709</td>\n",
       "      <td>...</td>\n",
       "      <td>5</td>\n",
       "      <td>0</td>\n",
       "      <td>0</td>\n",
       "      <td>0</td>\n",
       "      <td>0</td>\n",
       "      <td>0</td>\n",
       "      <td>0</td>\n",
       "      <td>3</td>\n",
       "      <td>11</td>\n",
       "      <td>0</td>\n",
       "    </tr>\n",
       "    <tr>\n",
       "      <th>2236</th>\n",
       "      <td>4001</td>\n",
       "      <td>1946</td>\n",
       "      <td>PhD</td>\n",
       "      <td>Together</td>\n",
       "      <td>64014.0</td>\n",
       "      <td>2</td>\n",
       "      <td>1</td>\n",
       "      <td>10-06-2014</td>\n",
       "      <td>56</td>\n",
       "      <td>406</td>\n",
       "      <td>...</td>\n",
       "      <td>7</td>\n",
       "      <td>0</td>\n",
       "      <td>0</td>\n",
       "      <td>0</td>\n",
       "      <td>1</td>\n",
       "      <td>0</td>\n",
       "      <td>0</td>\n",
       "      <td>3</td>\n",
       "      <td>11</td>\n",
       "      <td>0</td>\n",
       "    </tr>\n",
       "    <tr>\n",
       "      <th>2237</th>\n",
       "      <td>7270</td>\n",
       "      <td>1981</td>\n",
       "      <td>Graduation</td>\n",
       "      <td>Divorced</td>\n",
       "      <td>56981.0</td>\n",
       "      <td>0</td>\n",
       "      <td>0</td>\n",
       "      <td>25-01-2014</td>\n",
       "      <td>91</td>\n",
       "      <td>908</td>\n",
       "      <td>...</td>\n",
       "      <td>6</td>\n",
       "      <td>0</td>\n",
       "      <td>1</td>\n",
       "      <td>0</td>\n",
       "      <td>0</td>\n",
       "      <td>0</td>\n",
       "      <td>0</td>\n",
       "      <td>3</td>\n",
       "      <td>11</td>\n",
       "      <td>0</td>\n",
       "    </tr>\n",
       "    <tr>\n",
       "      <th>2238</th>\n",
       "      <td>8235</td>\n",
       "      <td>1956</td>\n",
       "      <td>Master</td>\n",
       "      <td>Together</td>\n",
       "      <td>69245.0</td>\n",
       "      <td>0</td>\n",
       "      <td>1</td>\n",
       "      <td>24-01-2014</td>\n",
       "      <td>8</td>\n",
       "      <td>428</td>\n",
       "      <td>...</td>\n",
       "      <td>3</td>\n",
       "      <td>0</td>\n",
       "      <td>0</td>\n",
       "      <td>0</td>\n",
       "      <td>0</td>\n",
       "      <td>0</td>\n",
       "      <td>0</td>\n",
       "      <td>3</td>\n",
       "      <td>11</td>\n",
       "      <td>0</td>\n",
       "    </tr>\n",
       "    <tr>\n",
       "      <th>2239</th>\n",
       "      <td>9405</td>\n",
       "      <td>1954</td>\n",
       "      <td>PhD</td>\n",
       "      <td>Married</td>\n",
       "      <td>52869.0</td>\n",
       "      <td>1</td>\n",
       "      <td>1</td>\n",
       "      <td>15-10-2012</td>\n",
       "      <td>40</td>\n",
       "      <td>84</td>\n",
       "      <td>...</td>\n",
       "      <td>7</td>\n",
       "      <td>0</td>\n",
       "      <td>0</td>\n",
       "      <td>0</td>\n",
       "      <td>0</td>\n",
       "      <td>0</td>\n",
       "      <td>0</td>\n",
       "      <td>3</td>\n",
       "      <td>11</td>\n",
       "      <td>1</td>\n",
       "    </tr>\n",
       "  </tbody>\n",
       "</table>\n",
       "<p>2240 rows × 29 columns</p>\n",
       "</div>"
      ],
      "text/plain": [
       "         ID  Year_Birth   Education Marital_Status   Income  Kidhome  \\\n",
       "0      5524        1957  Graduation         Single  58138.0        0   \n",
       "1      2174        1954  Graduation         Single  46344.0        1   \n",
       "2      4141        1965  Graduation       Together  71613.0        0   \n",
       "3      6182        1984  Graduation       Together  26646.0        1   \n",
       "4      5324        1981         PhD        Married  58293.0        1   \n",
       "...     ...         ...         ...            ...      ...      ...   \n",
       "2235  10870        1967  Graduation        Married  61223.0        0   \n",
       "2236   4001        1946         PhD       Together  64014.0        2   \n",
       "2237   7270        1981  Graduation       Divorced  56981.0        0   \n",
       "2238   8235        1956      Master       Together  69245.0        0   \n",
       "2239   9405        1954         PhD        Married  52869.0        1   \n",
       "\n",
       "      Teenhome Dt_Customer  Recency  MntWines  ...  NumWebVisitsMonth  \\\n",
       "0            0  04-09-2012       58       635  ...                  7   \n",
       "1            1  08-03-2014       38        11  ...                  5   \n",
       "2            0  21-08-2013       26       426  ...                  4   \n",
       "3            0  10-02-2014       26        11  ...                  6   \n",
       "4            0  19-01-2014       94       173  ...                  5   \n",
       "...        ...         ...      ...       ...  ...                ...   \n",
       "2235         1  13-06-2013       46       709  ...                  5   \n",
       "2236         1  10-06-2014       56       406  ...                  7   \n",
       "2237         0  25-01-2014       91       908  ...                  6   \n",
       "2238         1  24-01-2014        8       428  ...                  3   \n",
       "2239         1  15-10-2012       40        84  ...                  7   \n",
       "\n",
       "      AcceptedCmp3  AcceptedCmp4  AcceptedCmp5  AcceptedCmp1  AcceptedCmp2  \\\n",
       "0                0             0             0             0             0   \n",
       "1                0             0             0             0             0   \n",
       "2                0             0             0             0             0   \n",
       "3                0             0             0             0             0   \n",
       "4                0             0             0             0             0   \n",
       "...            ...           ...           ...           ...           ...   \n",
       "2235             0             0             0             0             0   \n",
       "2236             0             0             0             1             0   \n",
       "2237             0             1             0             0             0   \n",
       "2238             0             0             0             0             0   \n",
       "2239             0             0             0             0             0   \n",
       "\n",
       "      Complain  Z_CostContact  Z_Revenue  Response  \n",
       "0            0              3         11         1  \n",
       "1            0              3         11         0  \n",
       "2            0              3         11         0  \n",
       "3            0              3         11         0  \n",
       "4            0              3         11         0  \n",
       "...        ...            ...        ...       ...  \n",
       "2235         0              3         11         0  \n",
       "2236         0              3         11         0  \n",
       "2237         0              3         11         0  \n",
       "2238         0              3         11         0  \n",
       "2239         0              3         11         1  \n",
       "\n",
       "[2240 rows x 29 columns]"
      ]
     },
     "execution_count": 2,
     "metadata": {},
     "output_type": "execute_result"
    }
   ],
   "source": [
    "df=pd.read_csv('../input/customer-personality-analysis/marketing_campaign.csv',delimiter=\"\\t\")\n",
    "df"
   ]
  },
  {
   "cell_type": "code",
   "execution_count": 3,
   "id": "89b823e0",
   "metadata": {
    "execution": {
     "iopub.execute_input": "2023-11-28T11:50:53.271826Z",
     "iopub.status.busy": "2023-11-28T11:50:53.271003Z",
     "iopub.status.idle": "2023-11-28T11:50:53.275609Z",
     "shell.execute_reply": "2023-11-28T11:50:53.275115Z",
     "shell.execute_reply.started": "2023-06-18T08:33:20.822586Z"
    },
    "papermill": {
     "duration": 0.044368,
     "end_time": "2023-11-28T11:50:53.275730",
     "exception": false,
     "start_time": "2023-11-28T11:50:53.231362",
     "status": "completed"
    },
    "tags": []
   },
   "outputs": [
    {
     "data": {
      "text/html": [
       "<div>\n",
       "<style scoped>\n",
       "    .dataframe tbody tr th:only-of-type {\n",
       "        vertical-align: middle;\n",
       "    }\n",
       "\n",
       "    .dataframe tbody tr th {\n",
       "        vertical-align: top;\n",
       "    }\n",
       "\n",
       "    .dataframe thead th {\n",
       "        text-align: right;\n",
       "    }\n",
       "</style>\n",
       "<table border=\"1\" class=\"dataframe\">\n",
       "  <thead>\n",
       "    <tr style=\"text-align: right;\">\n",
       "      <th></th>\n",
       "      <th>ID</th>\n",
       "      <th>Year_Birth</th>\n",
       "      <th>Education</th>\n",
       "      <th>Marital_Status</th>\n",
       "      <th>Income</th>\n",
       "      <th>Kidhome</th>\n",
       "      <th>Teenhome</th>\n",
       "      <th>Dt_Customer</th>\n",
       "      <th>Recency</th>\n",
       "      <th>MntWines</th>\n",
       "      <th>...</th>\n",
       "      <th>NumWebVisitsMonth</th>\n",
       "      <th>AcceptedCmp3</th>\n",
       "      <th>AcceptedCmp4</th>\n",
       "      <th>AcceptedCmp5</th>\n",
       "      <th>AcceptedCmp1</th>\n",
       "      <th>AcceptedCmp2</th>\n",
       "      <th>Complain</th>\n",
       "      <th>Z_CostContact</th>\n",
       "      <th>Z_Revenue</th>\n",
       "      <th>Response</th>\n",
       "    </tr>\n",
       "  </thead>\n",
       "  <tbody>\n",
       "    <tr>\n",
       "      <th>0</th>\n",
       "      <td>5524</td>\n",
       "      <td>1957</td>\n",
       "      <td>Graduation</td>\n",
       "      <td>Single</td>\n",
       "      <td>58138.0</td>\n",
       "      <td>0</td>\n",
       "      <td>0</td>\n",
       "      <td>04-09-2012</td>\n",
       "      <td>58</td>\n",
       "      <td>635</td>\n",
       "      <td>...</td>\n",
       "      <td>7</td>\n",
       "      <td>0</td>\n",
       "      <td>0</td>\n",
       "      <td>0</td>\n",
       "      <td>0</td>\n",
       "      <td>0</td>\n",
       "      <td>0</td>\n",
       "      <td>3</td>\n",
       "      <td>11</td>\n",
       "      <td>1</td>\n",
       "    </tr>\n",
       "    <tr>\n",
       "      <th>1</th>\n",
       "      <td>2174</td>\n",
       "      <td>1954</td>\n",
       "      <td>Graduation</td>\n",
       "      <td>Single</td>\n",
       "      <td>46344.0</td>\n",
       "      <td>1</td>\n",
       "      <td>1</td>\n",
       "      <td>08-03-2014</td>\n",
       "      <td>38</td>\n",
       "      <td>11</td>\n",
       "      <td>...</td>\n",
       "      <td>5</td>\n",
       "      <td>0</td>\n",
       "      <td>0</td>\n",
       "      <td>0</td>\n",
       "      <td>0</td>\n",
       "      <td>0</td>\n",
       "      <td>0</td>\n",
       "      <td>3</td>\n",
       "      <td>11</td>\n",
       "      <td>0</td>\n",
       "    </tr>\n",
       "    <tr>\n",
       "      <th>2</th>\n",
       "      <td>4141</td>\n",
       "      <td>1965</td>\n",
       "      <td>Graduation</td>\n",
       "      <td>Together</td>\n",
       "      <td>71613.0</td>\n",
       "      <td>0</td>\n",
       "      <td>0</td>\n",
       "      <td>21-08-2013</td>\n",
       "      <td>26</td>\n",
       "      <td>426</td>\n",
       "      <td>...</td>\n",
       "      <td>4</td>\n",
       "      <td>0</td>\n",
       "      <td>0</td>\n",
       "      <td>0</td>\n",
       "      <td>0</td>\n",
       "      <td>0</td>\n",
       "      <td>0</td>\n",
       "      <td>3</td>\n",
       "      <td>11</td>\n",
       "      <td>0</td>\n",
       "    </tr>\n",
       "    <tr>\n",
       "      <th>3</th>\n",
       "      <td>6182</td>\n",
       "      <td>1984</td>\n",
       "      <td>Graduation</td>\n",
       "      <td>Together</td>\n",
       "      <td>26646.0</td>\n",
       "      <td>1</td>\n",
       "      <td>0</td>\n",
       "      <td>10-02-2014</td>\n",
       "      <td>26</td>\n",
       "      <td>11</td>\n",
       "      <td>...</td>\n",
       "      <td>6</td>\n",
       "      <td>0</td>\n",
       "      <td>0</td>\n",
       "      <td>0</td>\n",
       "      <td>0</td>\n",
       "      <td>0</td>\n",
       "      <td>0</td>\n",
       "      <td>3</td>\n",
       "      <td>11</td>\n",
       "      <td>0</td>\n",
       "    </tr>\n",
       "    <tr>\n",
       "      <th>4</th>\n",
       "      <td>5324</td>\n",
       "      <td>1981</td>\n",
       "      <td>PhD</td>\n",
       "      <td>Married</td>\n",
       "      <td>58293.0</td>\n",
       "      <td>1</td>\n",
       "      <td>0</td>\n",
       "      <td>19-01-2014</td>\n",
       "      <td>94</td>\n",
       "      <td>173</td>\n",
       "      <td>...</td>\n",
       "      <td>5</td>\n",
       "      <td>0</td>\n",
       "      <td>0</td>\n",
       "      <td>0</td>\n",
       "      <td>0</td>\n",
       "      <td>0</td>\n",
       "      <td>0</td>\n",
       "      <td>3</td>\n",
       "      <td>11</td>\n",
       "      <td>0</td>\n",
       "    </tr>\n",
       "  </tbody>\n",
       "</table>\n",
       "<p>5 rows × 29 columns</p>\n",
       "</div>"
      ],
      "text/plain": [
       "     ID  Year_Birth   Education Marital_Status   Income  Kidhome  Teenhome  \\\n",
       "0  5524        1957  Graduation         Single  58138.0        0         0   \n",
       "1  2174        1954  Graduation         Single  46344.0        1         1   \n",
       "2  4141        1965  Graduation       Together  71613.0        0         0   \n",
       "3  6182        1984  Graduation       Together  26646.0        1         0   \n",
       "4  5324        1981         PhD        Married  58293.0        1         0   \n",
       "\n",
       "  Dt_Customer  Recency  MntWines  ...  NumWebVisitsMonth  AcceptedCmp3  \\\n",
       "0  04-09-2012       58       635  ...                  7             0   \n",
       "1  08-03-2014       38        11  ...                  5             0   \n",
       "2  21-08-2013       26       426  ...                  4             0   \n",
       "3  10-02-2014       26        11  ...                  6             0   \n",
       "4  19-01-2014       94       173  ...                  5             0   \n",
       "\n",
       "   AcceptedCmp4  AcceptedCmp5  AcceptedCmp1  AcceptedCmp2  Complain  \\\n",
       "0             0             0             0             0         0   \n",
       "1             0             0             0             0         0   \n",
       "2             0             0             0             0         0   \n",
       "3             0             0             0             0         0   \n",
       "4             0             0             0             0         0   \n",
       "\n",
       "   Z_CostContact  Z_Revenue  Response  \n",
       "0              3         11         1  \n",
       "1              3         11         0  \n",
       "2              3         11         0  \n",
       "3              3         11         0  \n",
       "4              3         11         0  \n",
       "\n",
       "[5 rows x 29 columns]"
      ]
     },
     "execution_count": 3,
     "metadata": {},
     "output_type": "execute_result"
    }
   ],
   "source": [
    "#prints the first 5 rows of the data\n",
    "df.head()"
   ]
  },
  {
   "cell_type": "code",
   "execution_count": 4,
   "id": "29aaab0e",
   "metadata": {
    "execution": {
     "iopub.execute_input": "2023-11-28T11:50:53.319708Z",
     "iopub.status.busy": "2023-11-28T11:50:53.319002Z",
     "iopub.status.idle": "2023-11-28T11:50:53.341330Z",
     "shell.execute_reply": "2023-11-28T11:50:53.341853Z",
     "shell.execute_reply.started": "2023-06-18T08:33:25.618912Z"
    },
    "papermill": {
     "duration": 0.045869,
     "end_time": "2023-11-28T11:50:53.342016",
     "exception": false,
     "start_time": "2023-11-28T11:50:53.296147",
     "status": "completed"
    },
    "tags": []
   },
   "outputs": [
    {
     "name": "stdout",
     "output_type": "stream",
     "text": [
      "<class 'pandas.core.frame.DataFrame'>\n",
      "RangeIndex: 2240 entries, 0 to 2239\n",
      "Data columns (total 29 columns):\n",
      " #   Column               Non-Null Count  Dtype  \n",
      "---  ------               --------------  -----  \n",
      " 0   ID                   2240 non-null   int64  \n",
      " 1   Year_Birth           2240 non-null   int64  \n",
      " 2   Education            2240 non-null   object \n",
      " 3   Marital_Status       2240 non-null   object \n",
      " 4   Income               2216 non-null   float64\n",
      " 5   Kidhome              2240 non-null   int64  \n",
      " 6   Teenhome             2240 non-null   int64  \n",
      " 7   Dt_Customer          2240 non-null   object \n",
      " 8   Recency              2240 non-null   int64  \n",
      " 9   MntWines             2240 non-null   int64  \n",
      " 10  MntFruits            2240 non-null   int64  \n",
      " 11  MntMeatProducts      2240 non-null   int64  \n",
      " 12  MntFishProducts      2240 non-null   int64  \n",
      " 13  MntSweetProducts     2240 non-null   int64  \n",
      " 14  MntGoldProds         2240 non-null   int64  \n",
      " 15  NumDealsPurchases    2240 non-null   int64  \n",
      " 16  NumWebPurchases      2240 non-null   int64  \n",
      " 17  NumCatalogPurchases  2240 non-null   int64  \n",
      " 18  NumStorePurchases    2240 non-null   int64  \n",
      " 19  NumWebVisitsMonth    2240 non-null   int64  \n",
      " 20  AcceptedCmp3         2240 non-null   int64  \n",
      " 21  AcceptedCmp4         2240 non-null   int64  \n",
      " 22  AcceptedCmp5         2240 non-null   int64  \n",
      " 23  AcceptedCmp1         2240 non-null   int64  \n",
      " 24  AcceptedCmp2         2240 non-null   int64  \n",
      " 25  Complain             2240 non-null   int64  \n",
      " 26  Z_CostContact        2240 non-null   int64  \n",
      " 27  Z_Revenue            2240 non-null   int64  \n",
      " 28  Response             2240 non-null   int64  \n",
      "dtypes: float64(1), int64(25), object(3)\n",
      "memory usage: 507.6+ KB\n"
     ]
    }
   ],
   "source": [
    "#print the data types of each column\n",
    "df.info()"
   ]
  },
  {
   "cell_type": "markdown",
   "id": "1da89d90",
   "metadata": {
    "execution": {
     "iopub.execute_input": "2021-09-18T12:55:36.407587Z",
     "iopub.status.busy": "2021-09-18T12:55:36.407217Z",
     "iopub.status.idle": "2021-09-18T12:55:36.441845Z",
     "shell.execute_reply": "2021-09-18T12:55:36.440451Z",
     "shell.execute_reply.started": "2021-09-18T12:55:36.40755Z"
    },
    "papermill": {
     "duration": 0.02037,
     "end_time": "2023-11-28T11:50:53.383791",
     "exception": false,
     "start_time": "2023-11-28T11:50:53.363421",
     "status": "completed"
    },
    "tags": []
   },
   "source": [
    "📌**My Observations of the above Output:**\n",
    "\n",
    "* **We have missing values in the Income Column.**\n",
    "\n",
    "* **The Data Type of Dt_Customer Column should be DateTime. Thus, will parse it.**\n",
    "\n",
    "\n"
   ]
  },
  {
   "cell_type": "markdown",
   "id": "73a843ce",
   "metadata": {
    "papermill": {
     "duration": 0.021098,
     "end_time": "2023-11-28T11:50:53.425923",
     "exception": false,
     "start_time": "2023-11-28T11:50:53.404825",
     "status": "completed"
    },
    "tags": []
   },
   "source": [
    "# 3. **Conversion of Object or String data type to DateTime**"
   ]
  },
  {
   "cell_type": "code",
   "execution_count": 5,
   "id": "1259416f",
   "metadata": {
    "execution": {
     "iopub.execute_input": "2023-11-28T11:50:53.469774Z",
     "iopub.status.busy": "2023-11-28T11:50:53.469262Z",
     "iopub.status.idle": "2023-11-28T11:50:53.480221Z",
     "shell.execute_reply": "2023-11-28T11:50:53.479605Z",
     "shell.execute_reply.started": "2023-06-18T08:33:35.221145Z"
    },
    "papermill": {
     "duration": 0.033884,
     "end_time": "2023-11-28T11:50:53.480357",
     "exception": false,
     "start_time": "2023-11-28T11:50:53.446473",
     "status": "completed"
    },
    "tags": []
   },
   "outputs": [],
   "source": [
    "df['Dt_Customer']=pd.to_datetime(df['Dt_Customer'])\n"
   ]
  },
  {
   "cell_type": "markdown",
   "id": "f0e16a76",
   "metadata": {
    "papermill": {
     "duration": 0.020979,
     "end_time": "2023-11-28T11:50:53.523689",
     "exception": false,
     "start_time": "2023-11-28T11:50:53.502710",
     "status": "completed"
    },
    "tags": []
   },
   "source": [
    "**Now, will check the Data Type of the dataset again........**"
   ]
  },
  {
   "cell_type": "code",
   "execution_count": 6,
   "id": "73a6ca69",
   "metadata": {
    "execution": {
     "iopub.execute_input": "2023-11-28T11:50:53.573608Z",
     "iopub.status.busy": "2023-11-28T11:50:53.572971Z",
     "iopub.status.idle": "2023-11-28T11:50:53.583353Z",
     "shell.execute_reply": "2023-11-28T11:50:53.583847Z",
     "shell.execute_reply.started": "2023-06-18T08:33:38.139658Z"
    },
    "papermill": {
     "duration": 0.039215,
     "end_time": "2023-11-28T11:50:53.584036",
     "exception": false,
     "start_time": "2023-11-28T11:50:53.544821",
     "status": "completed"
    },
    "tags": []
   },
   "outputs": [
    {
     "name": "stdout",
     "output_type": "stream",
     "text": [
      "<class 'pandas.core.frame.DataFrame'>\n",
      "RangeIndex: 2240 entries, 0 to 2239\n",
      "Data columns (total 29 columns):\n",
      " #   Column               Non-Null Count  Dtype         \n",
      "---  ------               --------------  -----         \n",
      " 0   ID                   2240 non-null   int64         \n",
      " 1   Year_Birth           2240 non-null   int64         \n",
      " 2   Education            2240 non-null   object        \n",
      " 3   Marital_Status       2240 non-null   object        \n",
      " 4   Income               2216 non-null   float64       \n",
      " 5   Kidhome              2240 non-null   int64         \n",
      " 6   Teenhome             2240 non-null   int64         \n",
      " 7   Dt_Customer          2240 non-null   datetime64[ns]\n",
      " 8   Recency              2240 non-null   int64         \n",
      " 9   MntWines             2240 non-null   int64         \n",
      " 10  MntFruits            2240 non-null   int64         \n",
      " 11  MntMeatProducts      2240 non-null   int64         \n",
      " 12  MntFishProducts      2240 non-null   int64         \n",
      " 13  MntSweetProducts     2240 non-null   int64         \n",
      " 14  MntGoldProds         2240 non-null   int64         \n",
      " 15  NumDealsPurchases    2240 non-null   int64         \n",
      " 16  NumWebPurchases      2240 non-null   int64         \n",
      " 17  NumCatalogPurchases  2240 non-null   int64         \n",
      " 18  NumStorePurchases    2240 non-null   int64         \n",
      " 19  NumWebVisitsMonth    2240 non-null   int64         \n",
      " 20  AcceptedCmp3         2240 non-null   int64         \n",
      " 21  AcceptedCmp4         2240 non-null   int64         \n",
      " 22  AcceptedCmp5         2240 non-null   int64         \n",
      " 23  AcceptedCmp1         2240 non-null   int64         \n",
      " 24  AcceptedCmp2         2240 non-null   int64         \n",
      " 25  Complain             2240 non-null   int64         \n",
      " 26  Z_CostContact        2240 non-null   int64         \n",
      " 27  Z_Revenue            2240 non-null   int64         \n",
      " 28  Response             2240 non-null   int64         \n",
      "dtypes: datetime64[ns](1), float64(1), int64(25), object(2)\n",
      "memory usage: 507.6+ KB\n"
     ]
    }
   ],
   "source": [
    "df.info()"
   ]
  },
  {
   "cell_type": "markdown",
   "id": "e421d75c",
   "metadata": {
    "papermill": {
     "duration": 0.020842,
     "end_time": "2023-11-28T11:50:53.625984",
     "exception": false,
     "start_time": "2023-11-28T11:50:53.605142",
     "status": "completed"
    },
    "tags": []
   },
   "source": [
    "# 4. **Handling blank Values**"
   ]
  },
  {
   "cell_type": "markdown",
   "id": "406de45b",
   "metadata": {
    "papermill": {
     "duration": 0.020821,
     "end_time": "2023-11-28T11:50:53.668111",
     "exception": false,
     "start_time": "2023-11-28T11:50:53.647290",
     "status": "completed"
    },
    "tags": []
   },
   "source": [
    "**There are different ways of handling the \"Null Values\" inside the dataset but I have listed a few below:**\n",
    "\n",
    "1. Deleting the Cell that contains Null Values.\n",
    "2. Replacing the Null Values with Mean, Median, Mode, Forward Fill and Backward Fill etc.\n"
   ]
  },
  {
   "cell_type": "markdown",
   "id": "e64b03fd",
   "metadata": {
    "papermill": {
     "duration": 0.021016,
     "end_time": "2023-11-28T11:50:53.710440",
     "exception": false,
     "start_time": "2023-11-28T11:50:53.689424",
     "status": "completed"
    },
    "tags": []
   },
   "source": [
    "# **Handling the Null Values by Deleting them**\n",
    "\n",
    "**Handling the Null Values by Deleting them is not a good way to opt as this will sometimes affects the valuable insights if the dataset is not huge.**\n",
    "\n"
   ]
  },
  {
   "cell_type": "code",
   "execution_count": 7,
   "id": "7e95e60e",
   "metadata": {
    "execution": {
     "iopub.execute_input": "2023-11-28T11:50:53.755963Z",
     "iopub.status.busy": "2023-11-28T11:50:53.755355Z",
     "iopub.status.idle": "2023-11-28T11:50:53.764036Z",
     "shell.execute_reply": "2023-11-28T11:50:53.763462Z",
     "shell.execute_reply.started": "2023-06-18T08:33:42.767823Z"
    },
    "papermill": {
     "duration": 0.032684,
     "end_time": "2023-11-28T11:50:53.764171",
     "exception": false,
     "start_time": "2023-11-28T11:50:53.731487",
     "status": "completed"
    },
    "tags": []
   },
   "outputs": [
    {
     "data": {
      "text/plain": [
       "ID                      0\n",
       "Year_Birth              0\n",
       "Education               0\n",
       "Marital_Status          0\n",
       "Income                 24\n",
       "Kidhome                 0\n",
       "Teenhome                0\n",
       "Dt_Customer             0\n",
       "Recency                 0\n",
       "MntWines                0\n",
       "MntFruits               0\n",
       "MntMeatProducts         0\n",
       "MntFishProducts         0\n",
       "MntSweetProducts        0\n",
       "MntGoldProds            0\n",
       "NumDealsPurchases       0\n",
       "NumWebPurchases         0\n",
       "NumCatalogPurchases     0\n",
       "NumStorePurchases       0\n",
       "NumWebVisitsMonth       0\n",
       "AcceptedCmp3            0\n",
       "AcceptedCmp4            0\n",
       "AcceptedCmp5            0\n",
       "AcceptedCmp1            0\n",
       "AcceptedCmp2            0\n",
       "Complain                0\n",
       "Z_CostContact           0\n",
       "Z_Revenue               0\n",
       "Response                0\n",
       "dtype: int64"
      ]
     },
     "execution_count": 7,
     "metadata": {},
     "output_type": "execute_result"
    }
   ],
   "source": [
    "# It will count the number of null values in all the cells.\n",
    "df.isnull().sum()"
   ]
  },
  {
   "cell_type": "markdown",
   "id": "33fe8610",
   "metadata": {
    "papermill": {
     "duration": 0.021177,
     "end_time": "2023-11-28T11:50:53.807649",
     "exception": false,
     "start_time": "2023-11-28T11:50:53.786472",
     "status": "completed"
    },
    "tags": []
   },
   "source": [
    "**As only the \"Income\" column has null values so, we can delete those values by the Code given below.**"
   ]
  },
  {
   "cell_type": "code",
   "execution_count": 8,
   "id": "bbaa4a6e",
   "metadata": {
    "execution": {
     "iopub.execute_input": "2023-11-28T11:50:53.859496Z",
     "iopub.status.busy": "2023-11-28T11:50:53.858867Z",
     "iopub.status.idle": "2023-11-28T11:50:53.863294Z",
     "shell.execute_reply": "2023-11-28T11:50:53.863715Z",
     "shell.execute_reply.started": "2023-06-18T08:33:50.232436Z"
    },
    "papermill": {
     "duration": 0.033445,
     "end_time": "2023-11-28T11:50:53.863880",
     "exception": false,
     "start_time": "2023-11-28T11:50:53.830435",
     "status": "completed"
    },
    "tags": []
   },
   "outputs": [],
   "source": [
    "df.dropna(how='any', inplace=True)"
   ]
  },
  {
   "cell_type": "code",
   "execution_count": 9,
   "id": "1a8c2041",
   "metadata": {
    "execution": {
     "iopub.execute_input": "2023-11-28T11:50:53.909460Z",
     "iopub.status.busy": "2023-11-28T11:50:53.908921Z",
     "iopub.status.idle": "2023-11-28T11:50:53.920754Z",
     "shell.execute_reply": "2023-11-28T11:50:53.921248Z",
     "shell.execute_reply.started": "2023-06-18T08:33:54.770954Z"
    },
    "papermill": {
     "duration": 0.036335,
     "end_time": "2023-11-28T11:50:53.921406",
     "exception": false,
     "start_time": "2023-11-28T11:50:53.885071",
     "status": "completed"
    },
    "tags": []
   },
   "outputs": [
    {
     "name": "stdout",
     "output_type": "stream",
     "text": [
      "<class 'pandas.core.frame.DataFrame'>\n",
      "Int64Index: 2216 entries, 0 to 2239\n",
      "Data columns (total 29 columns):\n",
      " #   Column               Non-Null Count  Dtype         \n",
      "---  ------               --------------  -----         \n",
      " 0   ID                   2216 non-null   int64         \n",
      " 1   Year_Birth           2216 non-null   int64         \n",
      " 2   Education            2216 non-null   object        \n",
      " 3   Marital_Status       2216 non-null   object        \n",
      " 4   Income               2216 non-null   float64       \n",
      " 5   Kidhome              2216 non-null   int64         \n",
      " 6   Teenhome             2216 non-null   int64         \n",
      " 7   Dt_Customer          2216 non-null   datetime64[ns]\n",
      " 8   Recency              2216 non-null   int64         \n",
      " 9   MntWines             2216 non-null   int64         \n",
      " 10  MntFruits            2216 non-null   int64         \n",
      " 11  MntMeatProducts      2216 non-null   int64         \n",
      " 12  MntFishProducts      2216 non-null   int64         \n",
      " 13  MntSweetProducts     2216 non-null   int64         \n",
      " 14  MntGoldProds         2216 non-null   int64         \n",
      " 15  NumDealsPurchases    2216 non-null   int64         \n",
      " 16  NumWebPurchases      2216 non-null   int64         \n",
      " 17  NumCatalogPurchases  2216 non-null   int64         \n",
      " 18  NumStorePurchases    2216 non-null   int64         \n",
      " 19  NumWebVisitsMonth    2216 non-null   int64         \n",
      " 20  AcceptedCmp3         2216 non-null   int64         \n",
      " 21  AcceptedCmp4         2216 non-null   int64         \n",
      " 22  AcceptedCmp5         2216 non-null   int64         \n",
      " 23  AcceptedCmp1         2216 non-null   int64         \n",
      " 24  AcceptedCmp2         2216 non-null   int64         \n",
      " 25  Complain             2216 non-null   int64         \n",
      " 26  Z_CostContact        2216 non-null   int64         \n",
      " 27  Z_Revenue            2216 non-null   int64         \n",
      " 28  Response             2216 non-null   int64         \n",
      "dtypes: datetime64[ns](1), float64(1), int64(25), object(2)\n",
      "memory usage: 519.4+ KB\n"
     ]
    }
   ],
   "source": [
    "# Now, the number of Total Rows will change be:\n",
    "\n",
    "df.info()"
   ]
  },
  {
   "cell_type": "markdown",
   "id": "0da8b9a3",
   "metadata": {
    "papermill": {
     "duration": 0.022286,
     "end_time": "2023-11-28T11:50:53.965844",
     "exception": false,
     "start_time": "2023-11-28T11:50:53.943558",
     "status": "completed"
    },
    "tags": []
   },
   "source": [
    "**Now, you can see the change in the number of rows.**"
   ]
  },
  {
   "cell_type": "markdown",
   "id": "e7318372",
   "metadata": {
    "papermill": {
     "duration": 0.02173,
     "end_time": "2023-11-28T11:50:54.009626",
     "exception": false,
     "start_time": "2023-11-28T11:50:53.987896",
     "status": "completed"
    },
    "tags": []
   },
   "source": [
    "# **After this we will handle the Null Values by Filing them**"
   ]
  },
  {
   "cell_type": "markdown",
   "id": "30dfde06",
   "metadata": {
    "papermill": {
     "duration": 0.021531,
     "end_time": "2023-11-28T11:50:54.053120",
     "exception": false,
     "start_time": "2023-11-28T11:50:54.031589",
     "status": "completed"
    },
    "tags": []
   },
   "source": [
    "**There are different ways by which we can Fill the Null Values but, I am going to use the best approach which is to fill by \"Median\".**\n",
    "\n",
    "**See the below code:**"
   ]
  },
  {
   "cell_type": "code",
   "execution_count": 10,
   "id": "b80867e3",
   "metadata": {
    "execution": {
     "iopub.execute_input": "2023-11-28T11:50:54.099910Z",
     "iopub.status.busy": "2023-11-28T11:50:54.099324Z",
     "iopub.status.idle": "2023-11-28T11:50:54.104001Z",
     "shell.execute_reply": "2023-11-28T11:50:54.104538Z",
     "shell.execute_reply.started": "2023-06-18T08:34:03.515994Z"
    },
    "papermill": {
     "duration": 0.0296,
     "end_time": "2023-11-28T11:50:54.104708",
     "exception": false,
     "start_time": "2023-11-28T11:50:54.075108",
     "status": "completed"
    },
    "tags": []
   },
   "outputs": [],
   "source": [
    "df['Income'].fillna(df['Income'].median(),inplace=True)"
   ]
  },
  {
   "cell_type": "markdown",
   "id": "afaab1ab",
   "metadata": {
    "papermill": {
     "duration": 0.021157,
     "end_time": "2023-11-28T11:50:54.147631",
     "exception": false,
     "start_time": "2023-11-28T11:50:54.126474",
     "status": "completed"
    },
    "tags": []
   },
   "source": [
    "**Now, you can see there are no null values left.**\n",
    "\n",
    "\n",
    "\n",
    "\n",
    "**I could also use the Mean method to replace all the null values but, that way is not appropirate as \"Mean\" of the numbers will be affected by the Outliers and thus reduce the efficiency of the analysis.**"
   ]
  },
  {
   "cell_type": "code",
   "execution_count": 11,
   "id": "1af82b3e",
   "metadata": {
    "execution": {
     "iopub.execute_input": "2023-11-28T11:50:54.194636Z",
     "iopub.status.busy": "2023-11-28T11:50:54.194038Z",
     "iopub.status.idle": "2023-11-28T11:50:54.202041Z",
     "shell.execute_reply": "2023-11-28T11:50:54.202464Z",
     "shell.execute_reply.started": "2021-09-18T12:55:53.904434Z"
    },
    "papermill": {
     "duration": 0.033203,
     "end_time": "2023-11-28T11:50:54.202690",
     "exception": false,
     "start_time": "2023-11-28T11:50:54.169487",
     "status": "completed"
    },
    "tags": []
   },
   "outputs": [
    {
     "data": {
      "text/plain": [
       "ID                     0\n",
       "Year_Birth             0\n",
       "Education              0\n",
       "Marital_Status         0\n",
       "Income                 0\n",
       "Kidhome                0\n",
       "Teenhome               0\n",
       "Dt_Customer            0\n",
       "Recency                0\n",
       "MntWines               0\n",
       "MntFruits              0\n",
       "MntMeatProducts        0\n",
       "MntFishProducts        0\n",
       "MntSweetProducts       0\n",
       "MntGoldProds           0\n",
       "NumDealsPurchases      0\n",
       "NumWebPurchases        0\n",
       "NumCatalogPurchases    0\n",
       "NumStorePurchases      0\n",
       "NumWebVisitsMonth      0\n",
       "AcceptedCmp3           0\n",
       "AcceptedCmp4           0\n",
       "AcceptedCmp5           0\n",
       "AcceptedCmp1           0\n",
       "AcceptedCmp2           0\n",
       "Complain               0\n",
       "Z_CostContact          0\n",
       "Z_Revenue              0\n",
       "Response               0\n",
       "dtype: int64"
      ]
     },
     "execution_count": 11,
     "metadata": {},
     "output_type": "execute_result"
    }
   ],
   "source": [
    "df.isnull().sum()"
   ]
  },
  {
   "cell_type": "markdown",
   "id": "c4a799ac",
   "metadata": {
    "papermill": {
     "duration": 0.022189,
     "end_time": "2023-11-28T11:50:54.247205",
     "exception": false,
     "start_time": "2023-11-28T11:50:54.225016",
     "status": "completed"
    },
    "tags": []
   },
   "source": [
    "# **Visualizing the dataset**"
   ]
  },
  {
   "cell_type": "code",
   "execution_count": 12,
   "id": "c25a532c",
   "metadata": {
    "execution": {
     "iopub.execute_input": "2023-11-28T11:50:54.296365Z",
     "iopub.status.busy": "2023-11-28T11:50:54.295679Z",
     "iopub.status.idle": "2023-11-28T11:50:54.478508Z",
     "shell.execute_reply": "2023-11-28T11:50:54.479276Z",
     "shell.execute_reply.started": "2023-06-18T08:34:12.716025Z"
    },
    "papermill": {
     "duration": 0.208586,
     "end_time": "2023-11-28T11:50:54.479442",
     "exception": false,
     "start_time": "2023-11-28T11:50:54.270856",
     "status": "completed"
    },
    "tags": []
   },
   "outputs": [
    {
     "data": {
      "text/plain": [
       "Text(0.5, 1.0, 'Income Distribution')"
      ]
     },
     "execution_count": 12,
     "metadata": {},
     "output_type": "execute_result"
    },
    {
     "data": {
      "image/png": "[encoded data removed]",
      "text/plain": [
       "<Figure size 720x432 with 1 Axes>"
      ]
     },
     "metadata": {
      "needs_background": "light"
     },
     "output_type": "display_data"
    }
   ],
   "source": [
    "# Creating Box Plot\n",
    "plt.figure(figsize=(10,6))\n",
    "sns.boxplot(df['Income'],orient='v')\n",
    "plt.title('Income Distribution')\n"
   ]
  },
  {
   "cell_type": "markdown",
   "id": "9392a994",
   "metadata": {
    "papermill": {
     "duration": 0.023735,
     "end_time": "2023-11-28T11:50:54.528085",
     "exception": false,
     "start_time": "2023-11-28T11:50:54.504350",
     "status": "completed"
    },
    "tags": []
   },
   "source": [
    "**The \"Data Type\" of all the \"Acceptance Campaign\" columns should be in the \"Boolean Form\" as 1 and 0 represents \"True\" and \"False\" respectively.**"
   ]
  },
  {
   "cell_type": "code",
   "execution_count": 13,
   "id": "d0b2fb0e",
   "metadata": {
    "execution": {
     "iopub.execute_input": "2023-11-28T11:50:54.583212Z",
     "iopub.status.busy": "2023-11-28T11:50:54.582493Z",
     "iopub.status.idle": "2023-11-28T11:50:54.585842Z",
     "shell.execute_reply": "2023-11-28T11:50:54.586331Z",
     "shell.execute_reply.started": "2023-06-18T08:34:16.665323Z"
    },
    "papermill": {
     "duration": 0.033845,
     "end_time": "2023-11-28T11:50:54.586484",
     "exception": false,
     "start_time": "2023-11-28T11:50:54.552639",
     "status": "completed"
    },
    "tags": []
   },
   "outputs": [
    {
     "data": {
      "text/plain": [
       "0    2074\n",
       "1     142\n",
       "Name: AcceptedCmp1, dtype: int64"
      ]
     },
     "execution_count": 13,
     "metadata": {},
     "output_type": "execute_result"
    }
   ],
   "source": [
    "# This is counting the values of all the Zero and One.\n",
    "AcceptedCmp1_col=df['AcceptedCmp1']\n",
    "AcceptedCmp1_col.value_counts()"
   ]
  },
  {
   "cell_type": "markdown",
   "id": "32eda286",
   "metadata": {
    "papermill": {
     "duration": 0.02305,
     "end_time": "2023-11-28T11:50:54.632935",
     "exception": false,
     "start_time": "2023-11-28T11:50:54.609885",
     "status": "completed"
    },
    "tags": []
   },
   "source": [
    "**To convert the data type of \"Integer\" to \"Boolean\", use the below code:**"
   ]
  },
  {
   "cell_type": "code",
   "execution_count": 14,
   "id": "2009c99f",
   "metadata": {
    "execution": {
     "iopub.execute_input": "2023-11-28T11:50:54.683463Z",
     "iopub.status.busy": "2023-11-28T11:50:54.682953Z",
     "iopub.status.idle": "2023-11-28T11:50:54.692557Z",
     "shell.execute_reply": "2023-11-28T11:50:54.692955Z",
     "shell.execute_reply.started": "2021-09-18T12:56:21.784765Z"
    },
    "papermill": {
     "duration": 0.036608,
     "end_time": "2023-11-28T11:50:54.693115",
     "exception": false,
     "start_time": "2023-11-28T11:50:54.656507",
     "status": "completed"
    },
    "tags": []
   },
   "outputs": [
    {
     "data": {
      "text/plain": [
       "False    2074\n",
       "True      142\n",
       "Name: AcceptedCmp1, dtype: int64"
      ]
     },
     "execution_count": 14,
     "metadata": {},
     "output_type": "execute_result"
    }
   ],
   "source": [
    "AcceptedCmp1_col.astype('bool').value_counts()"
   ]
  },
  {
   "cell_type": "markdown",
   "id": "7df83969",
   "metadata": {
    "papermill": {
     "duration": 0.023031,
     "end_time": "2023-11-28T11:50:54.739483",
     "exception": false,
     "start_time": "2023-11-28T11:50:54.716452",
     "status": "completed"
    },
    "tags": []
   },
   "source": [
    "**From the below Histogram you can clearly see that the there are really a few people who have Accepated the product after the First Campaign.**"
   ]
  },
  {
   "cell_type": "code",
   "execution_count": 15,
   "id": "10f69cf1",
   "metadata": {
    "execution": {
     "iopub.execute_input": "2023-11-28T11:50:54.789429Z",
     "iopub.status.busy": "2023-11-28T11:50:54.788773Z",
     "iopub.status.idle": "2023-11-28T11:50:54.983431Z",
     "shell.execute_reply": "2023-11-28T11:50:54.983856Z",
     "shell.execute_reply.started": "2023-06-18T08:34:21.420861Z"
    },
    "papermill": {
     "duration": 0.221197,
     "end_time": "2023-11-28T11:50:54.984014",
     "exception": false,
     "start_time": "2023-11-28T11:50:54.762817",
     "status": "completed"
    },
    "tags": []
   },
   "outputs": [
    {
     "data": {
      "text/plain": [
       "Text(0, 0.5, 'Acceptance Frequency')"
      ]
     },
     "execution_count": 15,
     "metadata": {},
     "output_type": "execute_result"
    },
    {
     "data": {
      "image/png": "[encoded data removed]",
      "text/plain": [
       "<Figure size 432x288 with 1 Axes>"
      ]
     },
     "metadata": {
      "needs_background": "light"
     },
     "output_type": "display_data"
    }
   ],
   "source": [
    "# Creating Histogram Chart\n",
    "\n",
    "plt.hist(AcceptedCmp1_col)\n",
    "plt.title('Frequency of Campaign Accepted in the First Attempt')\n",
    "plt.xlabel('Campaign Accepted in the First Attempt')\n",
    "plt.ylabel('Acceptance Frequency')\n"
   ]
  },
  {
   "cell_type": "markdown",
   "id": "7c0b5084",
   "metadata": {
    "papermill": {
     "duration": 0.025015,
     "end_time": "2023-11-28T11:50:55.033862",
     "exception": false,
     "start_time": "2023-11-28T11:50:55.008847",
     "status": "completed"
    },
    "tags": []
   },
   "source": [
    "**The same will be followed for this \"AcceptedCmp2\" and the remaining other columns as their values are only given as 1 and 0.**"
   ]
  },
  {
   "cell_type": "code",
   "execution_count": 16,
   "id": "17a426c7",
   "metadata": {
    "execution": {
     "iopub.execute_input": "2023-11-28T11:50:55.108283Z",
     "iopub.status.busy": "2023-11-28T11:50:55.107414Z",
     "iopub.status.idle": "2023-11-28T11:50:55.272489Z",
     "shell.execute_reply": "2023-11-28T11:50:55.271930Z",
     "shell.execute_reply.started": "2023-06-18T08:34:29.942693Z"
    },
    "papermill": {
     "duration": 0.213014,
     "end_time": "2023-11-28T11:50:55.272657",
     "exception": false,
     "start_time": "2023-11-28T11:50:55.059643",
     "status": "completed"
    },
    "tags": []
   },
   "outputs": [
    {
     "data": {
      "text/plain": [
       "Text(0, 0.5, 'Acceptance Frequency')"
      ]
     },
     "execution_count": 16,
     "metadata": {},
     "output_type": "execute_result"
    },
    {
     "data": {
      "image/png": "[encoded data removed]",
      "text/plain": [
       "<Figure size 432x288 with 1 Axes>"
      ]
     },
     "metadata": {
      "needs_background": "light"
     },
     "output_type": "display_data"
    }
   ],
   "source": [
    "# Creating Histogram Chart\n",
    "\n",
    "plt.hist(df['AcceptedCmp2'])\n",
    "plt.title('Frequency of Campaign Accepted in the Second Attempt')\n",
    "plt.xlabel('Campaign Accepted in the Second Attempt')\n",
    "plt.ylabel('Acceptance Frequency')"
   ]
  },
  {
   "cell_type": "markdown",
   "id": "fd0e1c2a",
   "metadata": {
    "papermill": {
     "duration": 0.025175,
     "end_time": "2023-11-28T11:50:55.324074",
     "exception": false,
     "start_time": "2023-11-28T11:50:55.298899",
     "status": "completed"
    },
    "tags": []
   },
   "source": [
    "**In the end, I would like to say that if you find this notebook helpful please like it or have any suggestions to improve this then I would be extremely happy to hear from you all wonderful people!!!**\n",
    "\n",
    "**Thanks :)**"
   ]
  }
 ],
 "metadata": {
  "kaggle": {
   "accelerator": "none",
   "dataSources": [
    {
     "datasetId": 1546318,
     "sourceId": 2549419,
     "sourceType": "datasetVersion"
    }
   ],
   "dockerImageVersionId": 30123,
   "isGpuEnabled": false,
   "isInternetEnabled": true,
   "language": "python",
   "sourceType": "notebook"
  },
  "kernelspec": {
   "display_name": "Python 3",
   "language": "python",
   "name": "python3"
  },
  "language_info": {
   "codemirror_mode": {
    "name": "ipython",
    "version": 3
   },
   "file_extension": ".py",
   "mimetype": "text/x-python",
   "name": "python",
   "nbconvert_exporter": "python",
   "pygments_lexer": "ipython3",
   "version": "3.7.10"
  },
  "papermill": {
   "default_parameters": {},
   "duration": 12.934797,
   "end_time": "2023-11-28T11:50:56.501107",
   "environment_variables": {},
   "exception": null,
   "input_path": "__notebook__.ipynb",
   "output_path": "__notebook__.ipynb",
   "parameters": {},
   "start_time": "2023-11-28T11:50:43.566310",
   "version": "2.3.3"
  }
 },
 "nbformat": 4,
 "nbformat_minor": 5
}
